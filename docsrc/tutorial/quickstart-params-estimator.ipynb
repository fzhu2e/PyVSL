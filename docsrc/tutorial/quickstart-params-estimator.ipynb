{
 "cells": [
  {
   "cell_type": "markdown",
   "metadata": {},
   "source": [
    "# Quickstart: the wrapper for the parameters estimator in Matlab"
   ]
  },
  {
   "cell_type": "markdown",
   "metadata": {},
   "source": [
    "**Expected time to run through: 5 mins**\n",
    "\n",
    "\n",
    "In this tutorial, we demonstrate how to run the Matlab code of the Bayesian estimator (see [Tolwinski-Ward et al., 2013](https://doi.org/10.5194/cp-9-1481-2013)) for VS-Lite with PyVSL."
   ]
  },
  {
   "cell_type": "code",
   "execution_count": 1,
   "metadata": {},
   "outputs": [],
   "source": [
    "%load_ext autoreload\n",
    "%autoreload 2\n",
    "\n",
    "import PyVSL\n",
    "import pandas as pd\n",
    "import numpy as np"
   ]
  },
  {
   "cell_type": "markdown",
   "metadata": {
    "tags": []
   },
   "source": [
    "## Load test data"
   ]
  },
  {
   "cell_type": "markdown",
   "metadata": {},
   "source": [
    "First of all, we load the test data (can be downloaded with this [link](https://github.com/fzhu2e/PyVSL/raw/main/docsrc/tutorial/data/test_T_P.pkl)), which contains T and P at a grid point of the CCSM4 past1000 simulation.\n",
    "Note that the unit for T is degree C and that for P is accumulated monthly precipitation (mm/month)."
   ]
  },
  {
   "cell_type": "code",
   "execution_count": 2,
   "metadata": {},
   "outputs": [],
   "source": [
    "data_dict = pd.read_pickle('./data/test_T_P.pkl')\n",
    "time = data_dict['time']\n",
    "T = data_dict['T'] # unit: degC\n",
    "P = data_dict['P'] # unit: mm/month"
   ]
  },
  {
   "cell_type": "code",
   "execution_count": 3,
   "metadata": {},
   "outputs": [
    {
     "name": "stdout",
     "output_type": "stream",
     "text": [
      "[ 850.04109589  850.12328767  850.20273973 ... 1850.7890411  1850.8739726\n",
      " 1850.95616438]\n",
      "-31.395203 16.369354\n",
      "1.3947426 362.0332\n"
     ]
    }
   ],
   "source": [
    "print(time)\n",
    "print(np.min(T), np.max(T))\n",
    "print(np.min(P), np.max(P))"
   ]
  },
  {
   "cell_type": "markdown",
   "metadata": {},
   "source": [
    "## Run the wrapper"
   ]
  },
  {
   "cell_type": "markdown",
   "metadata": {},
   "source": [
    "We first generate pseudo-TRW and then use it to test the Bayesian estimator of the parameters."
   ]
  },
  {
   "cell_type": "code",
   "execution_count": 4,
   "metadata": {},
   "outputs": [
    {
     "name": "stdout",
     "output_type": "stream",
     "text": [
      "[ 0.18525126  1.71342774  2.0978884  ... -1.01238715  0.08412163\n",
      " -0.98738839]\n"
     ]
    }
   ],
   "source": [
    "res = PyVSL.VSL_M(\n",
    "        850, 1850, 52.3,                  # the starting year and ending year of the input T & P, along with the latitude\n",
    "        T, P,\n",
    "        T1=3, T2=15, M1=0.05, M2=0.2,  # parameters of the thresholds\n",
    ")\n",
    "\n",
    "pseudoTRW = res['trw']\n",
    "print(pseudoTRW)"
   ]
  },
  {
   "cell_type": "markdown",
   "metadata": {},
   "source": [
    "Now we estimate the paramters."
   ]
  },
  {
   "cell_type": "code",
   "execution_count": 6,
   "metadata": {},
   "outputs": [
    {
     "name": "stdout",
     "output_type": "stream",
     "text": [
      "Working on chain 1 out of 3...\n",
      "Working on chain 2 out of 3...\n",
      "Working on chain 3 out of 3...\n",
      "warning: implicit conversion from numeric to char\n",
      "warning: called from\n",
      "    estimate_vslite_params_v2_3 at line 456 column 9\n",
      "    _pyeval at line 57 column 30\n",
      "\n",
      "warning: implicit conversion from numeric to char\n",
      "warning: called from\n",
      "    estimate_vslite_params_v2_3 at line 457 column 9\n",
      "    _pyeval at line 57 column 30\n",
      "\n",
      "warning: implicit conversion from numeric to char\n",
      "warning: called from\n",
      "    estimate_vslite_params_v2_3 at line 458 column 9\n",
      "    _pyeval at line 57 column 30\n",
      "\n",
      "warning: implicit conversion from numeric to char\n",
      "warning: called from\n",
      "    estimate_vslite_params_v2_3 at line 459 column 9\n",
      "    _pyeval at line 57 column 30\n",
      "\n",
      "warning: implicit conversion from numeric to char\n",
      "warning: called from\n",
      "    estimate_vslite_params_v2_3 at line 461 column 13\n",
      "    _pyeval at line 57 column 30\n",
      "\n",
      "warning: implicit conversion from numeric to char\n",
      "warning: called from\n",
      "    estimate_vslite_params_v2_3 at line 466 column 9\n",
      "    _pyeval at line 57 column 30\n",
      "\n",
      "    Rhat for T1, T2, M1, M2, sigma2rw:\n",
      "   6.9251   4.9191   1.0005   1.0017   2.0843\n",
      "Gelman and Rubin metric suggests MCMC has not yet converged to within desired threshold;\n",
      "Parameter estimation code should be re-run using a greater number of MCMC iterations.\n",
      "(See 'nsamp' advanced input option.)\n",
      "{'T1': 3.018380299939497, 'T2': 14.996214306257361, 'M1': 0.03264283366693096, 'M2': 0.2315137993288519}\n",
      "CPU times: user 40.9 ms, sys: 23.8 ms, total: 64.7 ms\n",
      "Wall time: 1min 24s\n"
     ]
    }
   ],
   "source": [
    "%%time\n",
    "\n",
    "res_dict = PyVSL.est_params(T, P, 52.3, pseudoTRW)\n",
    "print(res_dict)"
   ]
  },
  {
   "cell_type": "code",
   "execution_count": 13,
   "metadata": {},
   "outputs": [
    {
     "name": "stdout",
     "output_type": "stream",
     "text": [
      "Working on chain 1 out of 3...\n",
      "Working on chain 2 out of 3...\n",
      "Working on chain 3 out of 3...\n",
      "warning: implicit conversion from numeric to char\n",
      "warning: called from\n",
      "    estimate_vslite_params_v2_3 at line 456 column 9\n",
      "    _pyeval at line 57 column 30\n",
      "\n",
      "warning: implicit conversion from numeric to char\n",
      "warning: called from\n",
      "    estimate_vslite_params_v2_3 at line 457 column 9\n",
      "    _pyeval at line 57 column 30\n",
      "\n",
      "warning: implicit conversion from numeric to char\n",
      "warning: called from\n",
      "    estimate_vslite_params_v2_3 at line 458 column 9\n",
      "    _pyeval at line 57 column 30\n",
      "\n",
      "warning: implicit conversion from numeric to char\n",
      "warning: called from\n",
      "    estimate_vslite_params_v2_3 at line 459 column 9\n",
      "    _pyeval at line 57 column 30\n",
      "\n",
      "warning: implicit conversion from numeric to char\n",
      "warning: called from\n",
      "    estimate_vslite_params_v2_3 at line 461 column 13\n",
      "    _pyeval at line 57 column 30\n",
      "\n",
      "warning: implicit conversion from numeric to char\n",
      "warning: called from\n",
      "    estimate_vslite_params_v2_3 at line 466 column 9\n",
      "    _pyeval at line 57 column 30\n",
      "\n",
      "    Rhat for T1, T2, M1, M2, sigma2rw:\n",
      "   1.8790   1.8817   1.0016   1.0056   1.3308\n",
      "Gelman and Rubin metric suggests MCMC has not yet converged to within desired threshold;\n",
      "Parameter estimation code should be re-run using a greater number of MCMC iterations.\n",
      "(See 'nsamp' advanced input option.)\n",
      "{'T1': 2.9404407783785085, 'T2': 15.000848823083922, 'M1': 0.03162766563450551, 'M2': 0.22485555616316452}\n",
      "CPU times: user 36.6 ms, sys: 24.4 ms, total: 61 ms\n",
      "Wall time: 1min 25s\n"
     ]
    }
   ],
   "source": [
    "%%time\n",
    "\n",
    "M = res['M'].flatten()\n",
    "res_dict = PyVSL.est_params(T, M, 52.3, pseudoTRW, hydroclim='M')\n",
    "print(res_dict)"
   ]
  },
  {
   "cell_type": "code",
   "execution_count": null,
   "metadata": {},
   "outputs": [],
   "source": []
  }
 ],
 "metadata": {
  "kernelspec": {
   "display_name": "Python 3 (ipykernel)",
   "language": "python",
   "name": "python3"
  },
  "language_info": {
   "codemirror_mode": {
    "name": "ipython",
    "version": 3
   },
   "file_extension": ".py",
   "mimetype": "text/x-python",
   "name": "python",
   "nbconvert_exporter": "python",
   "pygments_lexer": "ipython3",
   "version": "3.9.7"
  }
 },
 "nbformat": 4,
 "nbformat_minor": 4
}
