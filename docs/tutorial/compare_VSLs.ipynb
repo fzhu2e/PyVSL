{
 "cells": [
  {
   "cell_type": "markdown",
   "id": "bd760e84-8f80-473a-9d92-edda06148e4a",
   "metadata": {},
   "source": [
    "# Compare VS-Lite in pure Python with the wrappers"
   ]
  },
  {
   "cell_type": "markdown",
   "id": "9045f781-0a4f-4d84-b4ba-b1c7fd01693f",
   "metadata": {},
   "source": [
    "In this notebook, we compare VS-Lite in pure Python with the wrappers in R and Matlab."
   ]
  },
  {
   "cell_type": "code",
   "execution_count": 1,
   "id": "09954659-a552-4b7a-ab49-dad49544d41a",
   "metadata": {},
   "outputs": [],
   "source": [
    "%load_ext autoreload\n",
    "%autoreload 2\n",
    "\n",
    "import PyVSL\n",
    "import pandas as pd\n",
    "import numpy as np"
   ]
  },
  {
   "cell_type": "markdown",
   "id": "c4132a5a-e77d-42ee-ad07-46315672dde9",
   "metadata": {},
   "source": [
    "## Load test data\n",
    "\n",
    "First of all, we load the test data (can be downloaded with this link), which contains T and P at a grid point of the CCSM4 past1000 simulation. Note that the unit for T is degree C and that for P is accumulated monthly precipitation (mm/month)."
   ]
  },
  {
   "cell_type": "code",
   "execution_count": 2,
   "id": "c778b014-f1ff-455d-a5d4-dd9076dbbebb",
   "metadata": {},
   "outputs": [],
   "source": [
    "data_dict = pd.read_pickle('./data/test_T_P.pkl')\n",
    "time = data_dict['time']\n",
    "T = data_dict['T'] # unit: degC\n",
    "P = data_dict['P'] # unit: mm/month"
   ]
  },
  {
   "cell_type": "markdown",
   "id": "ad72575f-6ddf-4b53-a9fd-81f1c172fb53",
   "metadata": {},
   "source": [
    "## Set parameters"
   ]
  },
  {
   "cell_type": "code",
   "execution_count": 3,
   "id": "ddfd32a0-d4a1-4df5-a5be-b417a3e6776c",
   "metadata": {},
   "outputs": [],
   "source": [
    "T1, T2 = 1, 15\n",
    "M1, M2 = 0.01, 0.05\n",
    "syear, eyear, phi = 850, 1850, 45"
   ]
  },
  {
   "cell_type": "markdown",
   "id": "7b8914ec-08d1-4d58-bd72-807f66698372",
   "metadata": {},
   "source": [
    "## Run VS-Lite in pure Python"
   ]
  },
  {
   "cell_type": "code",
   "execution_count": 4,
   "id": "3bcfbe86-36c9-4e1f-8e54-aa114ab37698",
   "metadata": {},
   "outputs": [
    {
     "name": "stdout",
     "output_type": "stream",
     "text": [
      "CPU times: user 279 ms, sys: 1.45 ms, total: 280 ms\n",
      "Wall time: 280 ms\n"
     ]
    }
   ],
   "source": [
    "%%time\n",
    "\n",
    "res_P = PyVSL.VSL(\n",
    "    syear, eyear, phi,               # the starting year and ending year of the input T & P, along with the latitude\n",
    "    T, P,\n",
    "    T1=T1, T2=T2, M1=M1, M2=M2,  # parameters of the thresholds\n",
    ")"
   ]
  },
  {
   "cell_type": "markdown",
   "id": "b4708ff1-3e64-409f-b28f-5880d64452f1",
   "metadata": {},
   "source": [
    "## Run VS-Lite in Matlab"
   ]
  },
  {
   "cell_type": "code",
   "execution_count": 5,
   "id": "13267ce2-096c-4a82-b6f2-af0adb1c95a9",
   "metadata": {},
   "outputs": [
    {
     "name": "stdout",
     "output_type": "stream",
     "text": [
      "CPU times: user 7.16 ms, sys: 10.9 ms, total: 18.1 ms\n",
      "Wall time: 1.57 s\n"
     ]
    }
   ],
   "source": [
    "%%time\n",
    "\n",
    "\n",
    "\n",
    "res_M = PyVSL.VSL_M(\n",
    "    syear, eyear, phi,               # the starting year and ending year of the input T & P, along with the latitude\n",
    "    T, P,\n",
    "    T1=T1, T2=T2, M1=M1, M2=M2,  # parameters of the thresholds\n",
    ")"
   ]
  },
  {
   "cell_type": "markdown",
   "id": "788e1e22-5273-4d9a-b438-009a15026aeb",
   "metadata": {},
   "source": [
    "## Run VS-Lite in R"
   ]
  },
  {
   "cell_type": "code",
   "execution_count": 6,
   "id": "e523931c-2acf-4151-8553-d21044a0bf35",
   "metadata": {},
   "outputs": [
    {
     "name": "stdout",
     "output_type": "stream",
     "text": [
      "CPU times: user 167 ms, sys: 24.2 ms, total: 191 ms\n",
      "Wall time: 191 ms\n"
     ]
    }
   ],
   "source": [
    "%%time\n",
    "\n",
    "res_R = PyVSL.VSL_R(\n",
    "    syear, eyear, phi,               # the starting year and ending year of the input T & P, along with the latitude\n",
    "    T, P,\n",
    "    T1=T1, T2=T2, M1=M1, M2=M2,  # parameters of the thresholds\n",
    ")"
   ]
  },
  {
   "cell_type": "markdown",
   "id": "9daa87e6-e3b8-4954-ab13-f9a28b823e2d",
   "metadata": {},
   "source": [
    "## Compare the results"
   ]
  },
  {
   "cell_type": "code",
   "execution_count": 7,
   "id": "494eee32-e569-40e0-a07f-3bc08b6654c6",
   "metadata": {},
   "outputs": [],
   "source": [
    "from sklearn.metrics import mean_squared_error as MSE\n",
    "\n",
    "def compare_res(res_A, res_B):\n",
    "    print(MSE(res_A['trw'], res_B['trw']))"
   ]
  },
  {
   "cell_type": "code",
   "execution_count": 8,
   "id": "b25762e0-46bb-4576-a219-27f3996a395f",
   "metadata": {},
   "outputs": [
    {
     "name": "stdout",
     "output_type": "stream",
     "text": [
      "2.4962545261838044e-07\n",
      "2.496254599952891e-07\n",
      "7.37388906089954e-15\n"
     ]
    }
   ],
   "source": [
    "compare_res(res_P, res_M)\n",
    "compare_res(res_P, res_R)\n",
    "compare_res(res_M, res_R)"
   ]
  },
  {
   "cell_type": "markdown",
   "id": "7441ed3f-2877-4a90-b3f2-1ff38c1fadaf",
   "metadata": {},
   "source": [
    "Great! The MSE between the simulated TRW from the three functions are close to each other."
   ]
  },
  {
   "cell_type": "code",
   "execution_count": null,
   "id": "83daff21-e600-4bd1-8135-6f1bea55eb40",
   "metadata": {},
   "outputs": [],
   "source": []
  }
 ],
 "metadata": {
  "kernelspec": {
   "display_name": "Python 3 (ipykernel)",
   "language": "python",
   "name": "python3"
  },
  "language_info": {
   "codemirror_mode": {
    "name": "ipython",
    "version": 3
   },
   "file_extension": ".py",
   "mimetype": "text/x-python",
   "name": "python",
   "nbconvert_exporter": "python",
   "pygments_lexer": "ipython3",
   "version": "3.9.7"
  }
 },
 "nbformat": 4,
 "nbformat_minor": 5
}
